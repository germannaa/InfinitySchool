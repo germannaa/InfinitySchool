{
 "cells": [
  {
   "cell_type": "raw",
   "id": "fa4c9a7b",
   "metadata": {},
   "source": [
    "Importar o pandas"
   ]
  },
  {
   "cell_type": "code",
   "execution_count": 1,
   "id": "22089b64",
   "metadata": {},
   "outputs": [],
   "source": [
    "import pandas as pd"
   ]
  },
  {
   "cell_type": "markdown",
   "id": "033f65d7",
   "metadata": {},
   "source": [
    "DATAFRAME = Tabela"
   ]
  },
  {
   "cell_type": "code",
   "execution_count": 4,
   "id": "f02072b3",
   "metadata": {},
   "outputs": [
    {
     "data": {
      "text/html": [
       "<div>\n",
       "<style scoped>\n",
       "    .dataframe tbody tr th:only-of-type {\n",
       "        vertical-align: middle;\n",
       "    }\n",
       "\n",
       "    .dataframe tbody tr th {\n",
       "        vertical-align: top;\n",
       "    }\n",
       "\n",
       "    .dataframe thead th {\n",
       "        text-align: right;\n",
       "    }\n",
       "</style>\n",
       "<table border=\"1\" class=\"dataframe\">\n",
       "  <thead>\n",
       "    <tr style=\"text-align: right;\">\n",
       "      <th></th>\n",
       "      <th>nomeLivro</th>\n",
       "      <th>valor</th>\n",
       "      <th>estoque</th>\n",
       "    </tr>\n",
       "  </thead>\n",
       "  <tbody>\n",
       "    <tr>\n",
       "      <th>0</th>\n",
       "      <td>Logica de Programação</td>\n",
       "      <td>145</td>\n",
       "      <td>500</td>\n",
       "    </tr>\n",
       "    <tr>\n",
       "      <th>1</th>\n",
       "      <td>Livros de Python</td>\n",
       "      <td>240</td>\n",
       "      <td>350</td>\n",
       "    </tr>\n",
       "  </tbody>\n",
       "</table>\n",
       "</div>"
      ],
      "text/plain": [
       "               nomeLivro  valor  estoque\n",
       "0  Logica de Programação    145      500\n",
       "1       Livros de Python    240      350"
      ]
     },
     "metadata": {},
     "output_type": "display_data"
    }
   ],
   "source": [
    "livrosVendas = {'nomeLivro':['Logica de Programação','Livros de Python'], \n",
    "               'valor':[145, 240],\n",
    "               'estoque': [500,350]}\n",
    "\n",
    "livrosVendas_df = pd.DataFrame(livrosVendas)\n",
    "\n",
    "#print\n",
    "#print(livrosVendas_df)\n",
    "display(livrosVendas_df)"
   ]
  },
  {
   "cell_type": "code",
   "execution_count": null,
   "id": "28db03c5",
   "metadata": {},
   "outputs": [],
   "source": []
  }
 ],
 "metadata": {
  "kernelspec": {
   "display_name": "Python 3 (ipykernel)",
   "language": "python",
   "name": "python3"
  },
  "language_info": {
   "codemirror_mode": {
    "name": "ipython",
    "version": 3
   },
   "file_extension": ".py",
   "mimetype": "text/x-python",
   "name": "python",
   "nbconvert_exporter": "python",
   "pygments_lexer": "ipython3",
   "version": "3.9.12"
  }
 },
 "nbformat": 4,
 "nbformat_minor": 5
}
